{
 "cells": [
  {
   "metadata": {},
   "cell_type": "markdown",
   "source": "Title of Project and Explanation",
   "id": "51248b87b1658ae1"
  },
  {
   "metadata": {},
   "cell_type": "markdown",
   "source": "## Libraries <br>",
   "id": "c6568250b675b909"
  },
  {
   "cell_type": "code",
   "id": "initial_id",
   "metadata": {
    "collapsed": true,
    "ExecuteTime": {
     "end_time": "2025-04-21T22:31:49.251220Z",
     "start_time": "2025-04-21T22:31:49.225020Z"
    }
   },
   "source": [
    "# Pandas is required as I will be organising the data extracted from the various sources into Dataframes\n",
    "import pandas as pd\n",
    "\n",
    "# Requests is used to interact with APIs\n",
    "import requests\n",
    "\n",
    "# Numpy is used for some data filtering\n",
    "import numpy as np"
   ],
   "outputs": [],
   "execution_count": 566
  },
  {
   "metadata": {
    "ExecuteTime": {
     "end_time": "2025-04-21T22:31:49.334120Z",
     "start_time": "2025-04-21T22:31:49.327467Z"
    }
   },
   "cell_type": "code",
   "source": [
    "# This string is used as an argument to the IMF-related functions and serves as a reminder which period I am looking at\n",
    "data_periods = '2013, 2014, 2015, 2016, 2017, 2018, 2019, 2020, 2021, 2022'"
   ],
   "id": "e710559c870ab4d0",
   "outputs": [],
   "execution_count": 567
  },
  {
   "metadata": {},
   "cell_type": "markdown",
   "source": [
    "## Functions<br>\n",
    "These functions will be used throughout the script to get data through APIs and the clean it into a format from which it can be merged to the main dataset"
   ],
   "id": "8b7e2d4bbf4703b5"
  },
  {
   "metadata": {
    "ExecuteTime": {
     "end_time": "2025-04-21T22:31:49.413098Z",
     "start_time": "2025-04-21T22:31:49.386009Z"
    }
   },
   "cell_type": "code",
   "source": [
    "def create_irena_period_data(df: pd.DataFrame, period: str, year: int, remove_country: bool =False) -> pd.DataFrame:\n",
    "    \"\"\"\n",
    "    This function creates the IRENA dataset. This is the dataset which will contain:\n",
    "    a) The target variable (change in % of renewable sources in total electricity generation)\n",
    "    b) The amount of renewable electricity generation at the start of the period in question\n",
    "    This function should be run twice, for both the previous and current periods, so a change in renewable % can be calculated\n",
    "    :param df: The IRENA dataset in dataframe format\n",
    "    :param period: 'CUR' or 'PRE' as required\n",
    "    :param year: The year of observations to be extracted from the dataframe\n",
    "    :param remove_country: only include the country column on one of the datasets (either 'CUR' or 'PRE') to prevent duplication of columns\n",
    "    :return: Dataframe with both previous and current electricity generation data\n",
    "    \"\"\"\n",
    "    df = df[irena_data['Year'] == year].groupby(by=['Country', 'ISO3 code', 'RE or Non-RE'])['Electricity Generation (GWh)'].sum().reset_index(name='Electricity Generation (GWh)')\n",
    "    \n",
    "    # Create columns for both Renewable & Non-Renewable as right now they are by row\n",
    "    \n",
    "    # Create the Renewable DataFrame\n",
    "    renewable = df[df['RE or Non-RE'] == 'Total Renewable']\n",
    "    renewable = renewable.groupby(by=['Country', 'ISO3 code'])['Electricity Generation (GWh)'].sum().reset_index()\n",
    "    renewable = renewable.rename(columns={'Electricity Generation (GWh)': 'renewable'})\n",
    "    \n",
    "    # Create the Non-Renewable DataFrame\n",
    "    non_renewable = df[df['RE or Non-RE'] == 'Total Non-Renewable']\n",
    "    non_renewable = non_renewable.groupby(by=['Country', 'ISO3 code'])['Electricity Generation (GWh)'].sum().reset_index()\n",
    "    non_renewable = non_renewable.rename(columns={'Electricity Generation (GWh)': 'non-renewable'})\n",
    "    \n",
    "    # Join them together\n",
    "    grouped_irena = pd.merge(left=renewable,\n",
    "                        right = non_renewable,\n",
    "                        left_on=['Country', 'ISO3 code'],\n",
    "                        right_on=['Country', 'ISO3 code'],\n",
    "                        how='outer')\n",
    "    \n",
    "    # Two new fields are added which detail the total electricity generation and the percentage of this which is from renewable sources\n",
    "    df = grouped_irena\n",
    "    df['total_generation'] = df['renewable'] + df['non-renewable']\n",
    "    df['renewable_mix'] = np.where(df['renewable'].isna(), 0,\n",
    "                                   np.where(df['non-renewable'].isna(), 100, \n",
    "                                            (df['renewable'] / df['total_generation']) * 100))\n",
    "    \n",
    "    # Finally, columns are removed and/or renamed as required\n",
    "    if remove_country:\n",
    "        df = df[['Country', 'ISO3 code', 'renewable', 'renewable_mix']]\n",
    "        df = df.rename(columns={'Country': 'country', \n",
    "                                'ISO3 code': 'iso3_code', \n",
    "                                'renewable': f'{period}_renewable_generation', \n",
    "                                'renewable_mix': f'{period}_renewable_mix'})\n",
    "    else:\n",
    "        df = df[['ISO3 code', 'renewable', 'renewable_mix']]\n",
    "        df = df.rename(columns={'ISO3 code': 'iso3_code', \n",
    "                                'renewable': f'{period}_renewable_generation', \n",
    "                                'renewable_mix': f'{period}_renewable_mix'})\n",
    "    \n",
    "    return df"
   ],
   "id": "a578ffa71cbc177a",
   "outputs": [],
   "execution_count": 568
  },
  {
   "metadata": {
    "ExecuteTime": {
     "end_time": "2025-04-21T22:31:49.475801Z",
     "start_time": "2025-04-21T22:31:49.461310Z"
    }
   },
   "cell_type": "code",
   "source": [
    "def get_world_bank_data(indicator: str, file_format: str, date: str) -> list:\n",
    "    \"\"\"\n",
    "    This function connects to the World Bank API and extracts data based on arguments provided\n",
    "    :param indicator: Each dataset has a corresponding indicator which is used here to direct the request to the correct endpoint\n",
    "    :param file_format: Allows the user to select the format upon which the data should be returned (usually json)\n",
    "    :param date: The year in question\n",
    "    :return: Json file containing the required data based on the arguments\n",
    "    \"\"\"\n",
    "    base_url = f\"http://api.worldbank.org/v2/country/all/indicator/{indicator}?format={file_format}&date={date}\"\n",
    "    all_data = []\n",
    "    page = 1\n",
    "    \n",
    "    # As the World Bank datasets are paginated, the function must cycle through the pages and append the data into one object\n",
    "    while True:\n",
    "        url = f'{base_url}&page={page}'\n",
    "        response = requests.get(url)\n",
    "        if response.status_code == 200:\n",
    "            json_data = response.json()\n",
    "            if len(json_data) >1 and json_data[1]:\n",
    "                all_data.extend(json_data[1])\n",
    "                page += 1\n",
    "            else:\n",
    "                break\n",
    "        else:\n",
    "            print(f'Error: {response.status_code}')\n",
    "            break\n",
    "            \n",
    "    return all_data"
   ],
   "id": "e1a06a0dc6a71e14",
   "outputs": [],
   "execution_count": 569
  },
  {
   "metadata": {
    "ExecuteTime": {
     "end_time": "2025-04-21T22:31:49.489546Z",
     "start_time": "2025-04-21T22:31:49.480812Z"
    }
   },
   "cell_type": "code",
   "source": [
    "def clean_world_bank_data(df: pd.DataFrame, value_name: str) -> pd.DataFrame:\n",
    "    \"\"\"\n",
    "    This functions takes World Bank dataset and cleans/transforms it, ready to be merged to the main dataset\n",
    "    :param df: World Bank dataset as required\n",
    "    :param value_name: the default column name is 'value'. This needs to be updated to something more descriptive\n",
    "    :return: Cleaned dataset\n",
    "    \"\"\"\n",
    "    # Remove unneeded columns\n",
    "    df = df[['countryiso3code', 'value']]\n",
    "    \n",
    "    # Format cells as required\n",
    "    df['countryiso3code'] = df['countryiso3code'].astype(str)\n",
    "    \n",
    "    # Remove Nans and null values from the dataset\n",
    "    df = df.dropna(subset = ['value'])\n",
    "    \n",
    "    # Rename columns\n",
    "    df = df.rename(columns={'countryiso3code': 'iso3_code', 'value': value_name})\n",
    "    \n",
    "    return df"
   ],
   "id": "407fc2d6418e229a",
   "outputs": [],
   "execution_count": 570
  },
  {
   "metadata": {
    "ExecuteTime": {
     "end_time": "2025-04-21T22:31:49.501558Z",
     "start_time": "2025-04-21T22:31:49.493558Z"
    }
   },
   "cell_type": "code",
   "source": [
    "def get_imf_data(indicator: str, date: str) -> dict:\n",
    "    \"\"\"\n",
    "    This function connects to the World Bank API and extracts data based on arguments provided\n",
    "    :param indicator: Each dataset has a corresponding indicator which is used here to direct the request to the correct endpoint\n",
    "    :param date: The year in question\n",
    "    :return: Json file containing the required data based on the arguments\n",
    "    \"\"\"\n",
    "    url = f\"https://www.imf.org/external/datamapper/api/v1/{indicator}?periods={date}\"\n",
    "    response = requests.get(url)\n",
    "    if response.status_code == 200:\n",
    "        json_data = response.json()\n",
    "        return json_data['values'][indicator]\n",
    "    else:\n",
    "        raise ValueError(f\"error getting response from {url}: {response.status_code}\")"
   ],
   "id": "d9bbf4d228a2c0f3",
   "outputs": [],
   "execution_count": 571
  },
  {
   "metadata": {
    "ExecuteTime": {
     "end_time": "2025-04-21T22:31:49.592167Z",
     "start_time": "2025-04-21T22:31:49.584218Z"
    }
   },
   "cell_type": "code",
   "source": [
    "def clean_imf_data(retrieved_data: dict) -> pd.DataFrame:\n",
    "    \"\"\"\n",
    "    This functions takes IMF dataset and cleans/transforms it, ready to be merged to the main dataset.\n",
    "    :param retrieved_data: IMF dataset as required.\n",
    "    :return: Cleaned IMF dataset, ready to merged with the main dataset.\n",
    "    \"\"\"\n",
    "    country_rows = []\n",
    "    for country, years in retrieved_data.items():\n",
    "        country_data = {'iso3_code': country}\n",
    "        country_data.update(years)\n",
    "        country_rows.append(country_data)\n",
    "        \n",
    "    return pd.DataFrame(country_rows)"
   ],
   "id": "b826e806887606ee",
   "outputs": [],
   "execution_count": 572
  },
  {
   "metadata": {},
   "cell_type": "markdown",
   "source": "## Step 1: Retrieve, Clean and Transform the IRENA dataset",
   "id": "805f065afe159752"
  },
  {
   "metadata": {
    "ExecuteTime": {
     "end_time": "2025-04-21T22:32:18.876487Z",
     "start_time": "2025-04-21T22:31:49.699182Z"
    }
   },
   "cell_type": "code",
   "source": [
    "irena_data = pd.read_excel(\n",
    "    io=r'C:\\Users\\User\\OneDrive\\Documents\\prof_practice\\irena_energy_stats_2024.xlsx',\n",
    "    sheet_name='Country'\n",
    ")"
   ],
   "id": "ef0105d5329c48e6",
   "outputs": [],
   "execution_count": 573
  },
  {
   "metadata": {
    "ExecuteTime": {
     "end_time": "2025-04-21T22:32:18.942783Z",
     "start_time": "2025-04-21T22:32:18.879983Z"
    }
   },
   "cell_type": "code",
   "source": [
    "# Create a dataframe for both comparison periods are required\n",
    "pre_irena = create_irena_period_data(irena_data, 'pre',2013, False)\n",
    "cur_irena = create_irena_period_data(irena_data, 'cur', 2022, True)\n",
    "\n",
    "# Combine the periods into a single dataset\n",
    "final_irena = pd.merge(left=pre_irena,\n",
    "                       right=cur_irena,\n",
    "                       left_on=['iso3_code'],\n",
    "                       right_on=['iso3_code'],\n",
    "                       how='inner')\n",
    "\n",
    "# Create the target variable\n",
    "final_irena['renewable_mix_change'] = final_irena['cur_renewable_mix'] - final_irena['pre_renewable_mix']\n",
    "\n",
    "# Rename the columns\n",
    "final_irena = final_irena[['country', 'iso3_code', 'pre_renewable_generation', 'renewable_mix_change']]"
   ],
   "id": "4370872340363fde",
   "outputs": [],
   "execution_count": 574
  },
  {
   "metadata": {},
   "cell_type": "markdown",
   "source": "## Step 2: Add Median Age data from the World Health Organisation",
   "id": "81df9d9668dc91ca"
  },
  {
   "metadata": {
    "ExecuteTime": {
     "end_time": "2025-04-21T22:32:28.098084Z",
     "start_time": "2025-04-21T22:32:18.945305Z"
    }
   },
   "cell_type": "code",
   "source": [
    "# Import data from an XLSX file\n",
    "who_data = pd.read_excel(io=r'C:\\Users\\User\\OneDrive\\Documents\\prof_practice\\who_median_age.xlsx', sheet_name='Data')\n",
    "\n",
    "# Filter for the year required\n",
    "who_data = who_data[who_data['Year'] == 2022]\n",
    "\n",
    "# Remove unneeded columns\n",
    "who_data = who_data[['Country ISO 3 code', 'Value Numeric']]\n",
    "\n",
    "# Rename columns as required\n",
    "who_data = who_data.rename(columns={'Country ISO 3 code': 'iso3_code', 'Value Numeric': 'median_age'})"
   ],
   "id": "419c9bfde94408d4",
   "outputs": [],
   "execution_count": 575
  },
  {
   "metadata": {
    "ExecuteTime": {
     "end_time": "2025-04-21T22:32:28.116100Z",
     "start_time": "2025-04-21T22:32:28.103100Z"
    }
   },
   "cell_type": "code",
   "source": [
    "# Combine the IRENA and WHO Datasets\n",
    "complete_dataset = pd.merge(left=final_irena,\n",
    "                       right=who_data,\n",
    "                       left_on=['iso3_code'],\n",
    "                       right_on=['iso3_code'],\n",
    "                       how='inner')"
   ],
   "id": "f23225be6216ff9d",
   "outputs": [],
   "execution_count": 576
  },
  {
   "metadata": {},
   "cell_type": "markdown",
   "source": "## Step 3: Add GDP per Capita and Compulsory Education data from the World Bank",
   "id": "f61b7e4b53088c1d"
  },
  {
   "metadata": {
    "ExecuteTime": {
     "end_time": "2025-04-21T22:32:30.073254Z",
     "start_time": "2025-04-21T22:32:28.119746Z"
    }
   },
   "cell_type": "code",
   "source": [
    "# Use the World Bank API to return the GDP Per Capita dataset\n",
    "gdp_per_capita = pd.DataFrame.from_records(get_world_bank_data('NY.GDP.PCAP.CD', 'json', '2022'))\n",
    "\n",
    "# Clean and format the data\n",
    "gdp_per_capita = clean_world_bank_data(gdp_per_capita, 'gdp_per_capita')\n",
    "\n",
    "# Add the dataset to the main DataFrame\n",
    "complete_dataset = pd.merge(left=complete_dataset,\n",
    "                       right=gdp_per_capita,\n",
    "                       left_on=['iso3_code'],\n",
    "                       right_on=['iso3_code'],\n",
    "                       how='inner')"
   ],
   "id": "69b67f15c039a76c",
   "outputs": [
    {
     "name": "stderr",
     "output_type": "stream",
     "text": [
      "C:\\Users\\User\\AppData\\Local\\Temp\\ipykernel_11644\\1452728300.py:12: SettingWithCopyWarning: \n",
      "A value is trying to be set on a copy of a slice from a DataFrame.\n",
      "Try using .loc[row_indexer,col_indexer] = value instead\n",
      "\n",
      "See the caveats in the documentation: https://pandas.pydata.org/pandas-docs/stable/user_guide/indexing.html#returning-a-view-versus-a-copy\n",
      "  df['countryiso3code'] = df['countryiso3code'].astype(str)\n"
     ]
    }
   ],
   "execution_count": 577
  },
  {
   "metadata": {
    "ExecuteTime": {
     "end_time": "2025-04-21T22:32:32.149705Z",
     "start_time": "2025-04-21T22:32:30.075267Z"
    }
   },
   "cell_type": "code",
   "source": [
    "# Use the World Bank API to return the Compulsory Education dataset\n",
    "comp_edu = pd.DataFrame.from_records(get_world_bank_data('SE.COM.DURS', 'json', '2022'))\n",
    "\n",
    "# Clean and format the data\n",
    "comp_edu = clean_world_bank_data(comp_edu, 'compulsory_education')\n",
    "\n",
    "# Add the dataset to the main DataFrame\n",
    "complete_dataset = pd.merge(left=complete_dataset,\n",
    "                       right=comp_edu,\n",
    "                       left_on=['iso3_code'],\n",
    "                       right_on=['iso3_code'],\n",
    "                       how='inner')"
   ],
   "id": "c0e4d4414a5ae045",
   "outputs": [
    {
     "name": "stderr",
     "output_type": "stream",
     "text": [
      "C:\\Users\\User\\AppData\\Local\\Temp\\ipykernel_11644\\1452728300.py:12: SettingWithCopyWarning: \n",
      "A value is trying to be set on a copy of a slice from a DataFrame.\n",
      "Try using .loc[row_indexer,col_indexer] = value instead\n",
      "\n",
      "See the caveats in the documentation: https://pandas.pydata.org/pandas-docs/stable/user_guide/indexing.html#returning-a-view-versus-a-copy\n",
      "  df['countryiso3code'] = df['countryiso3code'].astype(str)\n"
     ]
    }
   ],
   "execution_count": 578
  },
  {
   "metadata": {},
   "cell_type": "markdown",
   "source": "## Step 4: Add Average Inflation, average Central Gov Debt and AI Preparedness data from the IMF",
   "id": "636387019cdc621d"
  },
  {
   "metadata": {
    "ExecuteTime": {
     "end_time": "2025-04-21T22:32:35.306845Z",
     "start_time": "2025-04-21T22:32:32.151716Z"
    }
   },
   "cell_type": "code",
   "source": [
    "# Retrieve and clean the data\n",
    "inflation_json = get_imf_data('PCPIPCH', data_periods)\n",
    "inflation_data = clean_imf_data(inflation_json)\n",
    "\n",
    "# Calculate the metric average over the period in question\n",
    "inflation_data['average_inflation'] = inflation_data.iloc[:, 1:].mean(axis=1)\n",
    "final_inflation = inflation_data[['iso3_code', 'average_inflation']]\n",
    "\n",
    "# Add the dataset to the main DataFrame\n",
    "complete_dataset = pd.merge(left=complete_dataset,\n",
    "                       right=final_inflation,\n",
    "                       left_on=['iso3_code'],\n",
    "                       right_on=['iso3_code'],\n",
    "                       how='inner')"
   ],
   "id": "d939ba01011c95a",
   "outputs": [],
   "execution_count": 579
  },
  {
   "metadata": {
    "ExecuteTime": {
     "end_time": "2025-04-21T22:32:37.467496Z",
     "start_time": "2025-04-21T22:32:35.312386Z"
    }
   },
   "cell_type": "code",
   "source": [
    "# Retrieve and clean the data\n",
    "cg_debt_json = get_imf_data('CG_DEBT_GDP', data_periods)\n",
    "cg_debt_data = clean_imf_data(cg_debt_json)\n",
    "\n",
    "# Calculate the metric average over the period in question\n",
    "cg_debt_data['average_net_debt'] = cg_debt_data.iloc[:, 1:].mean(axis=1)\n",
    "final_cg_debt = cg_debt_data[['iso3_code', 'average_net_debt']]\n",
    "\n",
    "# Add the dataset to the main DataFrame\n",
    "complete_dataset = pd.merge(left=complete_dataset,\n",
    "                       right=final_cg_debt,\n",
    "                       left_on=['iso3_code'],\n",
    "                       right_on=['iso3_code'],\n",
    "                       how='inner')"
   ],
   "id": "bbbd02bb9b61c60b",
   "outputs": [],
   "execution_count": 580
  },
  {
   "metadata": {
    "ExecuteTime": {
     "end_time": "2025-04-21T22:32:39.573023Z",
     "start_time": "2025-04-21T22:32:37.471518Z"
    }
   },
   "cell_type": "code",
   "source": [
    "# Retrieve and clean the data\n",
    "ai_json = get_imf_data('AI_PI', '2023')\n",
    "ai_data = clean_imf_data(ai_json)\n",
    "\n",
    "final_ai = ai_data.rename(columns={'2023': 'ai_preparedness'})\n",
    "\n",
    "# Add the dataset to the main DataFrame\n",
    "complete_dataset = pd.merge(left=complete_dataset,\n",
    "                       right=final_ai,\n",
    "                       left_on=['iso3_code'],\n",
    "                       right_on=['iso3_code'],\n",
    "                       how='inner')"
   ],
   "id": "c296f7d5730ad419",
   "outputs": [],
   "execution_count": 581
  },
  {
   "metadata": {},
   "cell_type": "markdown",
   "source": "## Step 5: Prepare the Final, Completed Dataset",
   "id": "707b8ec8fb801f23"
  },
  {
   "metadata": {
    "ExecuteTime": {
     "end_time": "2025-04-21T22:32:39.600039Z",
     "start_time": "2025-04-21T22:32:39.584041Z"
    }
   },
   "cell_type": "code",
   "source": "complete_dataset = complete_dataset[['country', 'gdp_per_capita', 'average_net_debt', 'average_inflation', 'median_age', 'compulsory_education', 'ai_preparedness', 'pre_renewable_generation', 'renewable_mix_change']]",
   "id": "33d1dc0b04bfc0e8",
   "outputs": [],
   "execution_count": 582
  },
  {
   "metadata": {
    "ExecuteTime": {
     "end_time": "2025-04-21T22:32:39.647387Z",
     "start_time": "2025-04-21T22:32:39.606173Z"
    }
   },
   "cell_type": "code",
   "source": "complete_dataset",
   "id": "194c42251a2519ac",
   "outputs": [
    {
     "data": {
      "text/plain": [
       "       country  gdp_per_capita  average_net_debt  average_inflation  \\\n",
       "0      Albania     6846.426143         69.731980           2.240000   \n",
       "1      Algeria     4961.552577         28.773215           4.820000   \n",
       "2       Angola     2929.694455         67.575514          19.200000   \n",
       "3    Argentina    13935.681111         69.525114          40.985714   \n",
       "4      Armenia     6571.974455         53.822150           3.300000   \n",
       "..         ...             ...               ...                ...   \n",
       "138    Uruguay    20691.973899         46.360337           8.410000   \n",
       "139   Viet Nam     4116.385761         38.765303           3.200000   \n",
       "140      Yemen      615.702079         72.253465          22.490000   \n",
       "141     Zambia     1447.123101         76.320599          11.480000   \n",
       "142   Zimbabwe     2040.552459         62.147220         111.330000   \n",
       "\n",
       "     median_age  compulsory_education  ai_preparedness  \\\n",
       "0        35.943                   9.0         0.526793   \n",
       "1        27.983                  10.0         0.370439   \n",
       "2        16.390                  10.0         0.259659   \n",
       "3        31.739                  14.0         0.473809   \n",
       "4        35.815                  12.0         0.492887   \n",
       "..          ...                   ...              ...   \n",
       "138      35.496                  14.0         0.548641   \n",
       "139      31.938                  10.0         0.481869   \n",
       "140      18.118                   9.0         0.253328   \n",
       "141      17.288                   7.0         0.370720   \n",
       "142      17.683                   7.0         0.304791   \n",
       "\n",
       "     pre_renewable_generation  renewable_mix_change  \n",
       "0                    6960.030              0.000000  \n",
       "1                     291.017              0.462285  \n",
       "2                    3638.585             30.309684  \n",
       "3                   35092.719              4.005632  \n",
       "4                    2177.200              8.447566  \n",
       "..                        ...                   ...  \n",
       "138                  9029.879              7.170168  \n",
       "139                 58466.294              4.961942  \n",
       "140                     4.589             17.205222  \n",
       "141                 13348.817            -10.947247  \n",
       "142                  5247.870             -6.427970  \n",
       "\n",
       "[143 rows x 9 columns]"
      ],
      "text/html": [
       "<div>\n",
       "<style scoped>\n",
       "    .dataframe tbody tr th:only-of-type {\n",
       "        vertical-align: middle;\n",
       "    }\n",
       "\n",
       "    .dataframe tbody tr th {\n",
       "        vertical-align: top;\n",
       "    }\n",
       "\n",
       "    .dataframe thead th {\n",
       "        text-align: right;\n",
       "    }\n",
       "</style>\n",
       "<table border=\"1\" class=\"dataframe\">\n",
       "  <thead>\n",
       "    <tr style=\"text-align: right;\">\n",
       "      <th></th>\n",
       "      <th>country</th>\n",
       "      <th>gdp_per_capita</th>\n",
       "      <th>average_net_debt</th>\n",
       "      <th>average_inflation</th>\n",
       "      <th>median_age</th>\n",
       "      <th>compulsory_education</th>\n",
       "      <th>ai_preparedness</th>\n",
       "      <th>pre_renewable_generation</th>\n",
       "      <th>renewable_mix_change</th>\n",
       "    </tr>\n",
       "  </thead>\n",
       "  <tbody>\n",
       "    <tr>\n",
       "      <th>0</th>\n",
       "      <td>Albania</td>\n",
       "      <td>6846.426143</td>\n",
       "      <td>69.731980</td>\n",
       "      <td>2.240000</td>\n",
       "      <td>35.943</td>\n",
       "      <td>9.0</td>\n",
       "      <td>0.526793</td>\n",
       "      <td>6960.030</td>\n",
       "      <td>0.000000</td>\n",
       "    </tr>\n",
       "    <tr>\n",
       "      <th>1</th>\n",
       "      <td>Algeria</td>\n",
       "      <td>4961.552577</td>\n",
       "      <td>28.773215</td>\n",
       "      <td>4.820000</td>\n",
       "      <td>27.983</td>\n",
       "      <td>10.0</td>\n",
       "      <td>0.370439</td>\n",
       "      <td>291.017</td>\n",
       "      <td>0.462285</td>\n",
       "    </tr>\n",
       "    <tr>\n",
       "      <th>2</th>\n",
       "      <td>Angola</td>\n",
       "      <td>2929.694455</td>\n",
       "      <td>67.575514</td>\n",
       "      <td>19.200000</td>\n",
       "      <td>16.390</td>\n",
       "      <td>10.0</td>\n",
       "      <td>0.259659</td>\n",
       "      <td>3638.585</td>\n",
       "      <td>30.309684</td>\n",
       "    </tr>\n",
       "    <tr>\n",
       "      <th>3</th>\n",
       "      <td>Argentina</td>\n",
       "      <td>13935.681111</td>\n",
       "      <td>69.525114</td>\n",
       "      <td>40.985714</td>\n",
       "      <td>31.739</td>\n",
       "      <td>14.0</td>\n",
       "      <td>0.473809</td>\n",
       "      <td>35092.719</td>\n",
       "      <td>4.005632</td>\n",
       "    </tr>\n",
       "    <tr>\n",
       "      <th>4</th>\n",
       "      <td>Armenia</td>\n",
       "      <td>6571.974455</td>\n",
       "      <td>53.822150</td>\n",
       "      <td>3.300000</td>\n",
       "      <td>35.815</td>\n",
       "      <td>12.0</td>\n",
       "      <td>0.492887</td>\n",
       "      <td>2177.200</td>\n",
       "      <td>8.447566</td>\n",
       "    </tr>\n",
       "    <tr>\n",
       "      <th>...</th>\n",
       "      <td>...</td>\n",
       "      <td>...</td>\n",
       "      <td>...</td>\n",
       "      <td>...</td>\n",
       "      <td>...</td>\n",
       "      <td>...</td>\n",
       "      <td>...</td>\n",
       "      <td>...</td>\n",
       "      <td>...</td>\n",
       "    </tr>\n",
       "    <tr>\n",
       "      <th>138</th>\n",
       "      <td>Uruguay</td>\n",
       "      <td>20691.973899</td>\n",
       "      <td>46.360337</td>\n",
       "      <td>8.410000</td>\n",
       "      <td>35.496</td>\n",
       "      <td>14.0</td>\n",
       "      <td>0.548641</td>\n",
       "      <td>9029.879</td>\n",
       "      <td>7.170168</td>\n",
       "    </tr>\n",
       "    <tr>\n",
       "      <th>139</th>\n",
       "      <td>Viet Nam</td>\n",
       "      <td>4116.385761</td>\n",
       "      <td>38.765303</td>\n",
       "      <td>3.200000</td>\n",
       "      <td>31.938</td>\n",
       "      <td>10.0</td>\n",
       "      <td>0.481869</td>\n",
       "      <td>58466.294</td>\n",
       "      <td>4.961942</td>\n",
       "    </tr>\n",
       "    <tr>\n",
       "      <th>140</th>\n",
       "      <td>Yemen</td>\n",
       "      <td>615.702079</td>\n",
       "      <td>72.253465</td>\n",
       "      <td>22.490000</td>\n",
       "      <td>18.118</td>\n",
       "      <td>9.0</td>\n",
       "      <td>0.253328</td>\n",
       "      <td>4.589</td>\n",
       "      <td>17.205222</td>\n",
       "    </tr>\n",
       "    <tr>\n",
       "      <th>141</th>\n",
       "      <td>Zambia</td>\n",
       "      <td>1447.123101</td>\n",
       "      <td>76.320599</td>\n",
       "      <td>11.480000</td>\n",
       "      <td>17.288</td>\n",
       "      <td>7.0</td>\n",
       "      <td>0.370720</td>\n",
       "      <td>13348.817</td>\n",
       "      <td>-10.947247</td>\n",
       "    </tr>\n",
       "    <tr>\n",
       "      <th>142</th>\n",
       "      <td>Zimbabwe</td>\n",
       "      <td>2040.552459</td>\n",
       "      <td>62.147220</td>\n",
       "      <td>111.330000</td>\n",
       "      <td>17.683</td>\n",
       "      <td>7.0</td>\n",
       "      <td>0.304791</td>\n",
       "      <td>5247.870</td>\n",
       "      <td>-6.427970</td>\n",
       "    </tr>\n",
       "  </tbody>\n",
       "</table>\n",
       "<p>143 rows × 9 columns</p>\n",
       "</div>"
      ]
     },
     "execution_count": 583,
     "metadata": {},
     "output_type": "execute_result"
    }
   ],
   "execution_count": 583
  }
 ],
 "metadata": {
  "kernelspec": {
   "display_name": "Python 3",
   "language": "python",
   "name": "python3"
  },
  "language_info": {
   "codemirror_mode": {
    "name": "ipython",
    "version": 2
   },
   "file_extension": ".py",
   "mimetype": "text/x-python",
   "name": "python",
   "nbconvert_exporter": "python",
   "pygments_lexer": "ipython2",
   "version": "2.7.6"
  }
 },
 "nbformat": 4,
 "nbformat_minor": 5
}
